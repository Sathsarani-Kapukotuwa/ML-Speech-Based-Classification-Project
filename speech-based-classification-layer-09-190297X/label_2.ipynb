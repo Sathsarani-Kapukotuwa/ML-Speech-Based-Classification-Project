{
 "cells": [
  {
   "cell_type": "code",
   "execution_count": 17,
   "metadata": {},
   "outputs": [],
   "source": [
    "import pandas as pd\n",
    "import numpy as np"
   ]
  },
  {
   "cell_type": "code",
   "execution_count": 18,
   "metadata": {},
   "outputs": [],
   "source": [
    "train = pd.read_csv('train.csv')\n",
    "valid = pd.read_csv('valid.csv')\n",
    "test = pd.read_csv('test.csv')"
   ]
  },
  {
   "cell_type": "code",
   "execution_count": 28,
   "metadata": {},
   "outputs": [
    {
     "name": "stdout",
     "output_type": "stream",
     "text": [
      "(28520, 772)\n",
      "(28040, 772)\n",
      "Index(['label_2'], dtype='object')\n"
     ]
    }
   ],
   "source": [
    "print(train.shape)\n",
    "print(train[train['label_2'].notna()].shape)\n",
    "\n",
    "train = pd.DataFrame(train)\n",
    "columns_with_missing_values = train.columns[train.isnull().any()]\n",
    "print(columns_with_missing_values)"
   ]
  },
  {
   "cell_type": "code",
   "execution_count": 29,
   "metadata": {},
   "outputs": [
    {
     "name": "stdout",
     "output_type": "stream",
     "text": [
      "(750, 772)\n",
      "(736, 772)\n",
      "Index(['label_2'], dtype='object')\n"
     ]
    }
   ],
   "source": [
    "print(valid.shape)\n",
    "print(valid[valid['label_2'].notna()].shape)\n",
    "\n",
    "valid = pd.DataFrame(valid)\n",
    "\n",
    "columns_with_missing_values = valid.columns[valid.isnull().any()]\n",
    "print(columns_with_missing_values)"
   ]
  },
  {
   "cell_type": "markdown",
   "metadata": {},
   "source": [
    "So, there ARE MISSING VALUES for 480 data in the train data set for label 2, and 14 data in the valid data set"
   ]
  },
  {
   "cell_type": "markdown",
   "metadata": {},
   "source": [
    "Handling Missing values using Mean Imputation"
   ]
  },
  {
   "cell_type": "code",
   "execution_count": 5,
   "metadata": {},
   "outputs": [],
   "source": [
    "train_X = train.copy()\n",
    "train_X.drop(['label_1', 'label_2', 'label_3', 'label_4'], axis=1, inplace=True)\n",
    "train_y = train['label_2'].fillna(train['label_2'].mean()).round()\n",
    "\n",
    "\n",
    "valid_X = valid.copy()\n",
    "valid_X.drop(['label_1', 'label_2', 'label_3', 'label_4'], axis=1, inplace=True)\n",
    "valid_y = valid['label_2'].fillna(valid['label_2'].mean()).round()\n",
    "\n",
    "test_X = test.copy()\n",
    "test_X.drop(['ID'], axis=1, inplace=True)"
   ]
  },
  {
   "cell_type": "markdown",
   "metadata": {},
   "source": [
    "Feature Scaling"
   ]
  },
  {
   "cell_type": "code",
   "execution_count": 6,
   "metadata": {},
   "outputs": [],
   "source": [
    "from sklearn.preprocessing import StandardScaler"
   ]
  },
  {
   "cell_type": "code",
   "execution_count": 7,
   "metadata": {},
   "outputs": [],
   "source": [
    "scaler = StandardScaler()\n",
    "\n",
    "train_X = scaler.fit_transform(train_X)\n",
    "valid_X = scaler.fit_transform(valid_X)\n",
    "test_X = scaler.fit_transform(test_X)"
   ]
  },
  {
   "cell_type": "code",
   "execution_count": 8,
   "metadata": {},
   "outputs": [],
   "source": [
    "from sklearn.metrics import accuracy_score, precision_score, recall_score, classification_report"
   ]
  },
  {
   "cell_type": "markdown",
   "metadata": {},
   "source": [
    "Training the model using SVM"
   ]
  },
  {
   "cell_type": "code",
   "execution_count": 71,
   "metadata": {},
   "outputs": [
    {
     "data": {
      "text/plain": [
       "0.8066666666666666"
      ]
     },
     "execution_count": 71,
     "metadata": {},
     "output_type": "execute_result"
    }
   ],
   "source": [
    "from sklearn.svm import SVC\n",
    "\n",
    "svc = SVC(kernel='linear')\n",
    "svc.fit(train_X, train_y)\n",
    "\n",
    "pred_y = svc.predict(valid_X)\n",
    "\n",
    "accuracy_score_valid = accuracy_score(valid_y, pred_y)\n",
    "accuracy_score_valid"
   ]
  },
  {
   "cell_type": "markdown",
   "metadata": {},
   "source": [
    "Training the model using KNN"
   ]
  },
  {
   "cell_type": "code",
   "execution_count": 50,
   "metadata": {},
   "outputs": [
    {
     "data": {
      "text/plain": [
       "0.8106666666666666"
      ]
     },
     "execution_count": 50,
     "metadata": {},
     "output_type": "execute_result"
    }
   ],
   "source": [
    "from sklearn.neighbors import KNeighborsClassifier\n",
    "\n",
    "knn = KNeighborsClassifier(n_neighbors=50)\n",
    "knn.fit(train_X, train_y)\n",
    "\n",
    "pred_y = knn.predict(valid_X)\n",
    "\n",
    "accuracy_score_valid = accuracy_score(valid_y, pred_y)\n",
    "accuracy_score_valid"
   ]
  },
  {
   "cell_type": "markdown",
   "metadata": {},
   "source": [
    "Training the model using Random Forest"
   ]
  },
  {
   "cell_type": "code",
   "execution_count": 51,
   "metadata": {},
   "outputs": [
    {
     "data": {
      "text/plain": [
       "0.764"
      ]
     },
     "execution_count": 51,
     "metadata": {},
     "output_type": "execute_result"
    }
   ],
   "source": [
    "from sklearn.ensemble import RandomForestClassifier\n",
    "rfc = RandomForestClassifier(n_estimators=100)\n",
    "rfc.fit(train_X, train_y)\n",
    "\n",
    "pred_y = rfc.predict(valid_X)\n",
    "\n",
    "accuracy_score_valid = accuracy_score(valid_y, pred_y)\n",
    "accuracy_score_valid"
   ]
  },
  {
   "cell_type": "markdown",
   "metadata": {},
   "source": [
    "Training the model using XGB"
   ]
  },
  {
   "cell_type": "code",
   "execution_count": 52,
   "metadata": {},
   "outputs": [],
   "source": [
    "from sklearn.preprocessing import LabelEncoder\n",
    "\n",
    "le = LabelEncoder()\n",
    "\n",
    "train_y_le = le.fit_transform(train_y)\n",
    "valid_y_le = le.fit_transform(valid_y)"
   ]
  },
  {
   "cell_type": "code",
   "execution_count": 53,
   "metadata": {},
   "outputs": [
    {
     "data": {
      "text/plain": [
       "0.856"
      ]
     },
     "execution_count": 53,
     "metadata": {},
     "output_type": "execute_result"
    }
   ],
   "source": [
    "import xgboost as xgb\n",
    "\n",
    "xgb_model = xgb.XGBClassifier()\n",
    "xgb_model.fit(train_X, train_y_le)\n",
    "\n",
    "pred_y = xgb_model.predict(valid_X)\n",
    "accuracy_score(valid_y_le, pred_y)"
   ]
  },
  {
   "cell_type": "markdown",
   "metadata": {},
   "source": [
    "Handling missing values with deletion"
   ]
  },
  {
   "cell_type": "code",
   "execution_count": 3,
   "metadata": {},
   "outputs": [
    {
     "name": "stderr",
     "output_type": "stream",
     "text": [
      "C:\\Users\\satha\\AppData\\Local\\Temp\\ipykernel_10644\\2672742658.py:2: SettingWithCopyWarning: \n",
      "A value is trying to be set on a copy of a slice from a DataFrame\n",
      "\n",
      "See the caveats in the documentation: https://pandas.pydata.org/pandas-docs/stable/user_guide/indexing.html#returning-a-view-versus-a-copy\n",
      "  train_X.drop(['label_1', 'label_2', 'label_3', 'label_4'], axis=1, inplace=True)\n",
      "C:\\Users\\satha\\AppData\\Local\\Temp\\ipykernel_10644\\2672742658.py:6: SettingWithCopyWarning: \n",
      "A value is trying to be set on a copy of a slice from a DataFrame\n",
      "\n",
      "See the caveats in the documentation: https://pandas.pydata.org/pandas-docs/stable/user_guide/indexing.html#returning-a-view-versus-a-copy\n",
      "  valid_X.drop(['label_1', 'label_2', 'label_3', 'label_4'], axis=1, inplace=True)\n"
     ]
    }
   ],
   "source": [
    "train_X = train[train['label_2'].notna()]                                              # NaN values are dropped\n",
    "train_X.drop(['label_1', 'label_2', 'label_3', 'label_4'], axis=1, inplace=True)\n",
    "train_y = train[train['label_2'].notna()]['label_2']\n",
    "\n",
    "valid_X = valid[valid['label_2'].notna()]                                             # NaN values are dropped\n",
    "valid_X.drop(['label_1', 'label_2', 'label_3', 'label_4'], axis=1, inplace=True)\n",
    "valid_y = valid[valid['label_2'].notna()]['label_2']\n",
    "\n",
    "test_X = test.copy()\n",
    "test_X.drop(['ID'], axis=1, inplace=True)"
   ]
  },
  {
   "cell_type": "markdown",
   "metadata": {},
   "source": [
    "Feature Scaling"
   ]
  },
  {
   "cell_type": "code",
   "execution_count": 4,
   "metadata": {},
   "outputs": [],
   "source": [
    "from sklearn.preprocessing import StandardScaler\n",
    "\n",
    "scaler = StandardScaler()\n",
    "\n",
    "train_X = scaler.fit_transform(train_X)\n",
    "valid_X = scaler.fit_transform(valid_X)\n",
    "test_X = scaler.fit_transform(test_X)"
   ]
  },
  {
   "cell_type": "markdown",
   "metadata": {},
   "source": [
    "SVM model"
   ]
  },
  {
   "cell_type": "code",
   "execution_count": 7,
   "metadata": {},
   "outputs": [
    {
     "data": {
      "text/plain": [
       "0.873641304347826"
      ]
     },
     "execution_count": 7,
     "metadata": {},
     "output_type": "execute_result"
    }
   ],
   "source": [
    "from sklearn.svm import SVC\n",
    "\n",
    "svm = SVC(kernel='poly')\n",
    "svm.fit(train_X, train_y)\n",
    "\n",
    "pred_y = svm.predict(valid_X)\n",
    "\n",
    "accuracy_score_valid = accuracy_score(valid_y, pred_y)\n",
    "accuracy_score_valid"
   ]
  },
  {
   "cell_type": "markdown",
   "metadata": {},
   "source": [
    "KNN model"
   ]
  },
  {
   "cell_type": "code",
   "execution_count": 76,
   "metadata": {},
   "outputs": [
    {
     "data": {
      "text/plain": [
       "0.8097826086956522"
      ]
     },
     "execution_count": 76,
     "metadata": {},
     "output_type": "execute_result"
    }
   ],
   "source": [
    "from sklearn.neighbors import KNeighborsClassifier\n",
    "\n",
    "knn = KNeighborsClassifier(n_neighbors=50)\n",
    "knn.fit(train_X, train_y)\n",
    "\n",
    "pred_y = knn.predict(valid_X)\n",
    "\n",
    "accuracy_score_valid = accuracy_score(valid_y, pred_y)\n",
    "accuracy_score_valid"
   ]
  },
  {
   "cell_type": "markdown",
   "metadata": {},
   "source": [
    "Random Forest model"
   ]
  },
  {
   "cell_type": "code",
   "execution_count": 77,
   "metadata": {},
   "outputs": [
    {
     "data": {
      "text/plain": [
       "0.7391304347826086"
      ]
     },
     "execution_count": 77,
     "metadata": {},
     "output_type": "execute_result"
    }
   ],
   "source": [
    "from sklearn.ensemble import RandomForestClassifier\n",
    "rfc = RandomForestClassifier(n_estimators=100)\n",
    "rfc.fit(train_X, train_y)\n",
    "\n",
    "pred_y = rfc.predict(valid_X)\n",
    "\n",
    "accuracy_score_valid = accuracy_score(valid_y, pred_y)\n",
    "accuracy_score_valid"
   ]
  },
  {
   "cell_type": "markdown",
   "metadata": {},
   "source": [
    "XGB model"
   ]
  },
  {
   "cell_type": "code",
   "execution_count": 78,
   "metadata": {},
   "outputs": [
    {
     "data": {
      "text/plain": [
       "0.8573369565217391"
      ]
     },
     "execution_count": 78,
     "metadata": {},
     "output_type": "execute_result"
    }
   ],
   "source": [
    "from sklearn.preprocessing import LabelEncoder\n",
    "import xgboost as xgb\n",
    "\n",
    "le = LabelEncoder()\n",
    "\n",
    "train_y_le = le.fit_transform(train_y)\n",
    "valid_y_le = le.fit_transform(valid_y)\n",
    "\n",
    "xgb_model = xgb.XGBClassifier()\n",
    "xgb_model.fit(train_X, train_y_le)\n",
    "\n",
    "pred_y = xgb_model.predict(valid_X)\n",
    "accuracy_score(valid_y_le, pred_y)"
   ]
  },
  {
   "cell_type": "markdown",
   "metadata": {},
   "source": [
    "Accuracy scores with mean imputation (for missing values) before feature engineering,\n",
    "\n",
    "SVM => 0.8066\n",
    "KNN => 0.8106\n",
    "Random Forest => 0.7640\n",
    "XGB => 0.856\n",
    "\n",
    "therefore before feature engineering for mean imputation,\n",
    "XGB > KNN > SVM > Random Forest\n",
    "\n",
    "\n",
    "Accuracy scores with deletion (for missing values) before feature engineering,\n",
    "\n",
    "SVM => 0.8736\n",
    "KNN => 0.8097\n",
    "Random Forest => 0.7391\n",
    "XGB => 0.8573\n",
    "\n",
    "therefore before feature engineering for missing values,\n",
    "SVM > XGB > KNN > Random Forest"
   ]
  },
  {
   "cell_type": "markdown",
   "metadata": {},
   "source": [
    "Feature Engineering and Model training with deletion for missing values"
   ]
  },
  {
   "cell_type": "code",
   "execution_count": 8,
   "metadata": {},
   "outputs": [
    {
     "name": "stderr",
     "output_type": "stream",
     "text": [
      "C:\\Users\\satha\\AppData\\Local\\Temp\\ipykernel_10644\\2672742658.py:2: SettingWithCopyWarning: \n",
      "A value is trying to be set on a copy of a slice from a DataFrame\n",
      "\n",
      "See the caveats in the documentation: https://pandas.pydata.org/pandas-docs/stable/user_guide/indexing.html#returning-a-view-versus-a-copy\n",
      "  train_X.drop(['label_1', 'label_2', 'label_3', 'label_4'], axis=1, inplace=True)\n",
      "C:\\Users\\satha\\AppData\\Local\\Temp\\ipykernel_10644\\2672742658.py:6: SettingWithCopyWarning: \n",
      "A value is trying to be set on a copy of a slice from a DataFrame\n",
      "\n",
      "See the caveats in the documentation: https://pandas.pydata.org/pandas-docs/stable/user_guide/indexing.html#returning-a-view-versus-a-copy\n",
      "  valid_X.drop(['label_1', 'label_2', 'label_3', 'label_4'], axis=1, inplace=True)\n"
     ]
    }
   ],
   "source": [
    "train_X = train[train['label_2'].notna()]                                              # NaN values are dropped\n",
    "train_X.drop(['label_1', 'label_2', 'label_3', 'label_4'], axis=1, inplace=True)\n",
    "train_y = train[train['label_2'].notna()]['label_2']\n",
    "\n",
    "valid_X = valid[valid['label_2'].notna()]                                             # NaN values are dropped\n",
    "valid_X.drop(['label_1', 'label_2', 'label_3', 'label_4'], axis=1, inplace=True)\n",
    "valid_y = valid[valid['label_2'].notna()]['label_2']\n",
    "\n",
    "test_X = test.copy()\n",
    "test_X.drop(['ID'], axis=1, inplace=True)"
   ]
  },
  {
   "cell_type": "markdown",
   "metadata": {},
   "source": [
    "(i) Correlation-Based Feature Selection (CFS)"
   ]
  },
  {
   "cell_type": "code",
   "execution_count": 9,
   "metadata": {},
   "outputs": [
    {
     "data": {
      "text/plain": [
       "0.8885869565217391"
      ]
     },
     "execution_count": 9,
     "metadata": {},
     "output_type": "execute_result"
    }
   ],
   "source": [
    "from sklearn.feature_selection import SelectKBest\n",
    "from sklearn.feature_selection import f_classif\n",
    "from sklearn.svm import SVC\n",
    "\n",
    "selected_features = 500\n",
    "\n",
    "feature_selector = SelectKBest(score_func=f_classif, k=selected_features)\n",
    "feature_selector.fit(train_X, train_y)\n",
    "\n",
    "train_X_new = feature_selector.transform(train_X)\n",
    "valid_X_new = feature_selector.transform(valid_X)\n",
    "\n",
    "svm = SVC(kernel='poly')\n",
    "svm.fit(train_X_new, train_y)\n",
    "\n",
    "pred_y = svm.predict(valid_X_new)\n",
    "\n",
    "accuracy_score_valid = accuracy_score(valid_y, pred_y)\n",
    "accuracy_score_valid"
   ]
  },
  {
   "cell_type": "markdown",
   "metadata": {},
   "source": [
    "(ii) Variance-based Feature Selection"
   ]
  },
  {
   "cell_type": "code",
   "execution_count": 138,
   "metadata": {},
   "outputs": [],
   "source": [
    "from sklearn.feature_selection import VarianceThreshold\n",
    "\n",
    "feature_selector = VarianceThreshold(0.005)\n",
    "\n",
    "feature_selector.fit(train_X, train_y)\n",
    "\n",
    "train_X_new = feature_selector.transform(train_X)\n",
    "valid_X_new = feature_selector.transform(valid_X)\n",
    "test_X_new = feature_selector.transform(test_X)"
   ]
  },
  {
   "cell_type": "code",
   "execution_count": 139,
   "metadata": {},
   "outputs": [
    {
     "data": {
      "text/plain": [
       "(28040, 182)"
      ]
     },
     "execution_count": 139,
     "metadata": {},
     "output_type": "execute_result"
    }
   ],
   "source": [
    "train_X_new.shape"
   ]
  },
  {
   "cell_type": "code",
   "execution_count": 140,
   "metadata": {},
   "outputs": [
    {
     "data": {
      "text/plain": [
       "0.8600543478260869"
      ]
     },
     "execution_count": 140,
     "metadata": {},
     "output_type": "execute_result"
    }
   ],
   "source": [
    "from sklearn.preprocessing import LabelEncoder\n",
    "import xgboost as xgb\n",
    "\n",
    "le = LabelEncoder()\n",
    "train_y_le = le.fit_transform(train_y)\n",
    "valid_y_le = le.fit_transform(valid_y)\n",
    "\n",
    "xgb_model = xgb.XGBClassifier()\n",
    "xgb_model.fit(train_X_new, train_y_le)\n",
    "\n",
    "pred_y = xgb_model.predict(valid_X_new)\n",
    "accuracy_score_valid = accuracy_score(valid_y_le, pred_y)\n",
    "accuracy_score_valid"
   ]
  },
  {
   "cell_type": "markdown",
   "metadata": {},
   "source": [
    "(iii) Principal Component Analysis (PCA)"
   ]
  },
  {
   "cell_type": "code",
   "execution_count": 10,
   "metadata": {},
   "outputs": [
    {
     "data": {
      "text/plain": [
       "0.845108695652174"
      ]
     },
     "execution_count": 10,
     "metadata": {},
     "output_type": "execute_result"
    }
   ],
   "source": [
    "from sklearn.decomposition import PCA\n",
    "from sklearn.preprocessing import LabelEncoder\n",
    "import xgboost as xgb\n",
    "\n",
    "pca = PCA(0.97)\n",
    "pca.fit(train_X)\n",
    "\n",
    "train_X_new = pca.transform(train_X)\n",
    "valid_X_new = pca.transform(valid_X)\n",
    "\n",
    "le = LabelEncoder()\n",
    "train_y_le = le.fit_transform(train_y)\n",
    "valid_y_le = le.fit_transform(valid_y)\n",
    "\n",
    "xgb_model = xgb.XGBClassifier()\n",
    "xgb_model.fit(train_X_new, train_y_le)\n",
    "\n",
    "pred_y = xgb_model.predict(valid_X_new)\n",
    "accuracy_score_valid = accuracy_score(valid_y_le, pred_y)\n",
    "accuracy_score_valid"
   ]
  },
  {
   "cell_type": "code",
   "execution_count": 11,
   "metadata": {},
   "outputs": [
    {
     "data": {
      "text/plain": [
       "(28040, 307)"
      ]
     },
     "execution_count": 11,
     "metadata": {},
     "output_type": "execute_result"
    }
   ],
   "source": [
    "train_X_new.shape"
   ]
  },
  {
   "cell_type": "markdown",
   "metadata": {},
   "source": [
    "Highest accuracies of each feature engineering methods\n",
    "\n",
    "(i) Correlation-Based Feature Selection (CFS) => accuracy = 0.8885 => new features = 500, \n",
    "(ii) Variance-based Feature Selection => accuracy = 0.8601 => new features = 182, \n",
    "(iii) PCA => accuracy = 0.8451 => new features = 307, \n",
    "\n",
    "therefore Correlation-Based Feature Selection (CFS) looks like the better method for feature engineering for label 2 for deletion of missing values"
   ]
  },
  {
   "cell_type": "markdown",
   "metadata": {},
   "source": [
    "Feature Engineering and Model training with mean imputation for missing values"
   ]
  },
  {
   "cell_type": "code",
   "execution_count": 19,
   "metadata": {},
   "outputs": [],
   "source": [
    "train_X = train.copy()\n",
    "train_X.drop(['label_1', 'label_2', 'label_3', 'label_4'], axis=1, inplace=True)\n",
    "train_y = train['label_2'].fillna(train['label_2'].mean()).round()\n",
    "\n",
    "\n",
    "valid_X = valid.copy()\n",
    "valid_X.drop(['label_1', 'label_2', 'label_3', 'label_4'], axis=1, inplace=True)\n",
    "valid_y = valid['label_2'].fillna(valid['label_2'].mean()).round()\n",
    "\n",
    "test_X = test.copy()\n",
    "test_X.drop(['ID'], axis=1, inplace=True)"
   ]
  },
  {
   "cell_type": "markdown",
   "metadata": {},
   "source": [
    "(i) Correlation-Based Feature Selection (CFS)"
   ]
  },
  {
   "cell_type": "code",
   "execution_count": 13,
   "metadata": {},
   "outputs": [
    {
     "data": {
      "text/plain": [
       "0.86"
      ]
     },
     "execution_count": 13,
     "metadata": {},
     "output_type": "execute_result"
    }
   ],
   "source": [
    "from sklearn.feature_selection import SelectKBest\n",
    "from sklearn.feature_selection import f_classif\n",
    "from sklearn.preprocessing import LabelEncoder\n",
    "import xgboost as xgb\n",
    "\n",
    "selected_features = 500\n",
    "feature_selector = SelectKBest(score_func=f_classif, k=selected_features)\n",
    "feature_selector.fit(train_X, train_y)\n",
    "\n",
    "train_X_new = feature_selector.transform(train_X)\n",
    "valid_X_new = feature_selector.transform(valid_X)\n",
    "\n",
    "le = LabelEncoder()\n",
    "train_y_le = le.fit_transform(train_y)\n",
    "valid_y_le = le.fit_transform(valid_y)\n",
    "\n",
    "xgb_model = xgb.XGBClassifier()\n",
    "xgb_model.fit(train_X_new, train_y_le)\n",
    "\n",
    "pred_y = xgb_model.predict(valid_X_new)\n",
    "accuracy_score_valid = accuracy_score(valid_y_le, pred_y)\n",
    "accuracy_score_valid"
   ]
  },
  {
   "cell_type": "code",
   "execution_count": 14,
   "metadata": {},
   "outputs": [
    {
     "data": {
      "text/plain": [
       "0.8853333333333333"
      ]
     },
     "execution_count": 14,
     "metadata": {},
     "output_type": "execute_result"
    }
   ],
   "source": [
    "from sklearn.svm import SVC\n",
    "\n",
    "svm = SVC(kernel='poly')\n",
    "svm.fit(train_X_new, train_y)\n",
    "\n",
    "pred_y = svm.predict(valid_X_new)\n",
    "\n",
    "accuracy_score_valid = accuracy_score(valid_y, pred_y)\n",
    "accuracy_score_valid"
   ]
  },
  {
   "cell_type": "markdown",
   "metadata": {},
   "source": [
    "(ii) Variance-based Feature Selection"
   ]
  },
  {
   "cell_type": "code",
   "execution_count": 150,
   "metadata": {},
   "outputs": [
    {
     "data": {
      "text/html": [
       "<div>\n",
       "<style scoped>\n",
       "    .dataframe tbody tr th:only-of-type {\n",
       "        vertical-align: middle;\n",
       "    }\n",
       "\n",
       "    .dataframe tbody tr th {\n",
       "        vertical-align: top;\n",
       "    }\n",
       "\n",
       "    .dataframe thead th {\n",
       "        text-align: right;\n",
       "    }\n",
       "</style>\n",
       "<table border=\"1\" class=\"dataframe\">\n",
       "  <thead>\n",
       "    <tr style=\"text-align: right;\">\n",
       "      <th></th>\n",
       "      <th>selected features</th>\n",
       "      <th>accuracy</th>\n",
       "    </tr>\n",
       "  </thead>\n",
       "  <tbody>\n",
       "    <tr>\n",
       "      <th>0</th>\n",
       "      <td>109</td>\n",
       "      <td>0.616000</td>\n",
       "    </tr>\n",
       "    <tr>\n",
       "      <th>1</th>\n",
       "      <td>98</td>\n",
       "      <td>0.609333</td>\n",
       "    </tr>\n",
       "    <tr>\n",
       "      <th>2</th>\n",
       "      <td>87</td>\n",
       "      <td>0.600000</td>\n",
       "    </tr>\n",
       "  </tbody>\n",
       "</table>\n",
       "</div>"
      ],
      "text/plain": [
       "   selected features  accuracy\n",
       "0                109  0.616000\n",
       "1                 98  0.609333\n",
       "2                 87  0.600000"
      ]
     },
     "execution_count": 150,
     "metadata": {},
     "output_type": "execute_result"
    }
   ],
   "source": [
    "from sklearn.feature_selection import VarianceThreshold\n",
    "from sklearn.svm import SVC\n",
    "\n",
    "thresholds = [0.007, 0.008, 0.009]\n",
    "selected_features = []\n",
    "accuracies = []\n",
    "\n",
    "for threshold in thresholds:\n",
    "    feature_selector = VarianceThreshold(threshold)\n",
    "\n",
    "    feature_selector.fit(train_X, train_y)\n",
    "\n",
    "    train_X_new = feature_selector.transform(train_X)\n",
    "    valid_X_new = feature_selector.transform(valid_X)\n",
    "\n",
    "    selected_features.append(train_X_new.shape[1])\n",
    "\n",
    "    svc_new = SVC(kernel='linear')\n",
    "    svc_new.fit(train_X_new, train_y)\n",
    "\n",
    "    pred_y = svc_new.predict(valid_X_new)\n",
    "\n",
    "    accuracy_score_valid = accuracy_score(valid_y, pred_y)\n",
    "    accuracies.append(accuracy_score_valid)\n",
    "\n",
    "\n",
    "results = pd.DataFrame({'threshold': thresholds,'selected features': selected_features, 'accuracy': accuracies})\n",
    "results\n"
   ]
  },
  {
   "cell_type": "code",
   "execution_count": 152,
   "metadata": {},
   "outputs": [
    {
     "data": {
      "text/html": [
       "<div>\n",
       "<style scoped>\n",
       "    .dataframe tbody tr th:only-of-type {\n",
       "        vertical-align: middle;\n",
       "    }\n",
       "\n",
       "    .dataframe tbody tr th {\n",
       "        vertical-align: top;\n",
       "    }\n",
       "\n",
       "    .dataframe thead th {\n",
       "        text-align: right;\n",
       "    }\n",
       "</style>\n",
       "<table border=\"1\" class=\"dataframe\">\n",
       "  <thead>\n",
       "    <tr style=\"text-align: right;\">\n",
       "      <th></th>\n",
       "      <th>threshold</th>\n",
       "      <th>selected features</th>\n",
       "      <th>accuracy</th>\n",
       "    </tr>\n",
       "  </thead>\n",
       "  <tbody>\n",
       "    <tr>\n",
       "      <th>0</th>\n",
       "      <td>0.004</td>\n",
       "      <td>301</td>\n",
       "      <td>0.758667</td>\n",
       "    </tr>\n",
       "    <tr>\n",
       "      <th>1</th>\n",
       "      <td>0.005</td>\n",
       "      <td>184</td>\n",
       "      <td>0.676000</td>\n",
       "    </tr>\n",
       "    <tr>\n",
       "      <th>2</th>\n",
       "      <td>0.006</td>\n",
       "      <td>135</td>\n",
       "      <td>0.642667</td>\n",
       "    </tr>\n",
       "  </tbody>\n",
       "</table>\n",
       "</div>"
      ],
      "text/plain": [
       "   threshold  selected features  accuracy\n",
       "0      0.004                301  0.758667\n",
       "1      0.005                184  0.676000\n",
       "2      0.006                135  0.642667"
      ]
     },
     "execution_count": 152,
     "metadata": {},
     "output_type": "execute_result"
    }
   ],
   "source": [
    "from sklearn.feature_selection import VarianceThreshold\n",
    "from sklearn.svm import SVC\n",
    "\n",
    "thresholds = [0.004, 0.005, 0.006]\n",
    "selected_features = []\n",
    "accuracies = []\n",
    "\n",
    "for threshold in thresholds:\n",
    "    feature_selector = VarianceThreshold(threshold)\n",
    "\n",
    "    feature_selector.fit(train_X, train_y)\n",
    "\n",
    "    train_X_new = feature_selector.transform(train_X)\n",
    "    valid_X_new = feature_selector.transform(valid_X)\n",
    "\n",
    "    selected_features.append(train_X_new.shape[1])\n",
    "\n",
    "    svc_new = SVC(kernel='linear')\n",
    "    svc_new.fit(train_X_new, train_y)\n",
    "\n",
    "    pred_y = svc_new.predict(valid_X_new)\n",
    "\n",
    "    accuracy_score_valid = accuracy_score(valid_y, pred_y)\n",
    "    accuracies.append(accuracy_score_valid)\n",
    "\n",
    "\n",
    "results = pd.DataFrame({'threshold': thresholds,'selected features': selected_features, 'accuracy': accuracies})\n",
    "results\n"
   ]
  },
  {
   "cell_type": "code",
   "execution_count": 154,
   "metadata": {},
   "outputs": [
    {
     "data": {
      "text/html": [
       "<div>\n",
       "<style scoped>\n",
       "    .dataframe tbody tr th:only-of-type {\n",
       "        vertical-align: middle;\n",
       "    }\n",
       "\n",
       "    .dataframe tbody tr th {\n",
       "        vertical-align: top;\n",
       "    }\n",
       "\n",
       "    .dataframe thead th {\n",
       "        text-align: right;\n",
       "    }\n",
       "</style>\n",
       "<table border=\"1\" class=\"dataframe\">\n",
       "  <thead>\n",
       "    <tr style=\"text-align: right;\">\n",
       "      <th></th>\n",
       "      <th>threshold</th>\n",
       "      <th>selected features</th>\n",
       "      <th>accuracy</th>\n",
       "    </tr>\n",
       "  </thead>\n",
       "  <tbody>\n",
       "    <tr>\n",
       "      <th>0</th>\n",
       "      <td>0.0035</td>\n",
       "      <td>419</td>\n",
       "      <td>0.784000</td>\n",
       "    </tr>\n",
       "    <tr>\n",
       "      <th>1</th>\n",
       "      <td>0.0034</td>\n",
       "      <td>444</td>\n",
       "      <td>0.781333</td>\n",
       "    </tr>\n",
       "    <tr>\n",
       "      <th>2</th>\n",
       "      <td>0.0033</td>\n",
       "      <td>471</td>\n",
       "      <td>0.801333</td>\n",
       "    </tr>\n",
       "    <tr>\n",
       "      <th>3</th>\n",
       "      <td>0.0032</td>\n",
       "      <td>503</td>\n",
       "      <td>0.793333</td>\n",
       "    </tr>\n",
       "    <tr>\n",
       "      <th>4</th>\n",
       "      <td>0.0031</td>\n",
       "      <td>529</td>\n",
       "      <td>0.801333</td>\n",
       "    </tr>\n",
       "    <tr>\n",
       "      <th>5</th>\n",
       "      <td>0.0030</td>\n",
       "      <td>553</td>\n",
       "      <td>0.809333</td>\n",
       "    </tr>\n",
       "  </tbody>\n",
       "</table>\n",
       "</div>"
      ],
      "text/plain": [
       "   threshold  selected features  accuracy\n",
       "0     0.0035                419  0.784000\n",
       "1     0.0034                444  0.781333\n",
       "2     0.0033                471  0.801333\n",
       "3     0.0032                503  0.793333\n",
       "4     0.0031                529  0.801333\n",
       "5     0.0030                553  0.809333"
      ]
     },
     "execution_count": 154,
     "metadata": {},
     "output_type": "execute_result"
    }
   ],
   "source": [
    "from sklearn.feature_selection import VarianceThreshold\n",
    "from sklearn.svm import SVC\n",
    "\n",
    "thresholds = [0.0035, 0.0034, 0.0033, 0.0032, 0.0031, 0.003]\n",
    "selected_features = []\n",
    "accuracies = []\n",
    "\n",
    "for threshold in thresholds:\n",
    "    feature_selector = VarianceThreshold(threshold)\n",
    "\n",
    "    feature_selector.fit(train_X, train_y)\n",
    "\n",
    "    train_X_new = feature_selector.transform(train_X)\n",
    "    valid_X_new = feature_selector.transform(valid_X)\n",
    "\n",
    "    selected_features.append(train_X_new.shape[1])\n",
    "\n",
    "    svc_new = SVC(kernel='linear')\n",
    "    svc_new.fit(train_X_new, train_y)\n",
    "\n",
    "    pred_y = svc_new.predict(valid_X_new)\n",
    "\n",
    "    accuracy_score_valid = accuracy_score(valid_y, pred_y)\n",
    "    accuracies.append(accuracy_score_valid)\n",
    "\n",
    "\n",
    "results = pd.DataFrame({'threshold': thresholds,'selected features': selected_features, 'accuracy': accuracies})\n",
    "results"
   ]
  },
  {
   "cell_type": "markdown",
   "metadata": {},
   "source": [
    "(iii) Principal Component Analysis (PCA)"
   ]
  },
  {
   "cell_type": "code",
   "execution_count": 155,
   "metadata": {},
   "outputs": [
    {
     "data": {
      "text/html": [
       "<div>\n",
       "<style scoped>\n",
       "    .dataframe tbody tr th:only-of-type {\n",
       "        vertical-align: middle;\n",
       "    }\n",
       "\n",
       "    .dataframe tbody tr th {\n",
       "        vertical-align: top;\n",
       "    }\n",
       "\n",
       "    .dataframe thead th {\n",
       "        text-align: right;\n",
       "    }\n",
       "</style>\n",
       "<table border=\"1\" class=\"dataframe\">\n",
       "  <thead>\n",
       "    <tr style=\"text-align: right;\">\n",
       "      <th></th>\n",
       "      <th>components</th>\n",
       "      <th>selected features</th>\n",
       "      <th>accuracy</th>\n",
       "    </tr>\n",
       "  </thead>\n",
       "  <tbody>\n",
       "    <tr>\n",
       "      <th>0</th>\n",
       "      <td>0.870</td>\n",
       "      <td>77</td>\n",
       "      <td>0.626667</td>\n",
       "    </tr>\n",
       "    <tr>\n",
       "      <th>1</th>\n",
       "      <td>0.880</td>\n",
       "      <td>86</td>\n",
       "      <td>0.624000</td>\n",
       "    </tr>\n",
       "    <tr>\n",
       "      <th>2</th>\n",
       "      <td>0.890</td>\n",
       "      <td>96</td>\n",
       "      <td>0.633333</td>\n",
       "    </tr>\n",
       "    <tr>\n",
       "      <th>3</th>\n",
       "      <td>0.900</td>\n",
       "      <td>108</td>\n",
       "      <td>0.660000</td>\n",
       "    </tr>\n",
       "    <tr>\n",
       "      <th>4</th>\n",
       "      <td>0.910</td>\n",
       "      <td>122</td>\n",
       "      <td>0.674667</td>\n",
       "    </tr>\n",
       "    <tr>\n",
       "      <th>5</th>\n",
       "      <td>0.920</td>\n",
       "      <td>139</td>\n",
       "      <td>0.720000</td>\n",
       "    </tr>\n",
       "    <tr>\n",
       "      <th>6</th>\n",
       "      <td>0.930</td>\n",
       "      <td>160</td>\n",
       "      <td>0.741333</td>\n",
       "    </tr>\n",
       "    <tr>\n",
       "      <th>7</th>\n",
       "      <td>0.940</td>\n",
       "      <td>185</td>\n",
       "      <td>0.744000</td>\n",
       "    </tr>\n",
       "    <tr>\n",
       "      <th>8</th>\n",
       "      <td>0.950</td>\n",
       "      <td>216</td>\n",
       "      <td>0.756000</td>\n",
       "    </tr>\n",
       "    <tr>\n",
       "      <th>9</th>\n",
       "      <td>0.955</td>\n",
       "      <td>234</td>\n",
       "      <td>0.756000</td>\n",
       "    </tr>\n",
       "    <tr>\n",
       "      <th>10</th>\n",
       "      <td>0.960</td>\n",
       "      <td>255</td>\n",
       "      <td>0.757333</td>\n",
       "    </tr>\n",
       "    <tr>\n",
       "      <th>11</th>\n",
       "      <td>0.965</td>\n",
       "      <td>279</td>\n",
       "      <td>0.773333</td>\n",
       "    </tr>\n",
       "    <tr>\n",
       "      <th>12</th>\n",
       "      <td>0.970</td>\n",
       "      <td>307</td>\n",
       "      <td>0.785333</td>\n",
       "    </tr>\n",
       "  </tbody>\n",
       "</table>\n",
       "</div>"
      ],
      "text/plain": [
       "    components  selected features  accuracy\n",
       "0        0.870                 77  0.626667\n",
       "1        0.880                 86  0.624000\n",
       "2        0.890                 96  0.633333\n",
       "3        0.900                108  0.660000\n",
       "4        0.910                122  0.674667\n",
       "5        0.920                139  0.720000\n",
       "6        0.930                160  0.741333\n",
       "7        0.940                185  0.744000\n",
       "8        0.950                216  0.756000\n",
       "9        0.955                234  0.756000\n",
       "10       0.960                255  0.757333\n",
       "11       0.965                279  0.773333\n",
       "12       0.970                307  0.785333"
      ]
     },
     "execution_count": 155,
     "metadata": {},
     "output_type": "execute_result"
    }
   ],
   "source": [
    "from sklearn.decomposition import PCA\n",
    "from sklearn.svm import SVC\n",
    "\n",
    "components = [0.87, 0.88, 0.89, 0.9, 0.91, 0.92, 0.93, 0.94, 0.95, 0.955, 0.96, 0.965, 0.97]\n",
    "selected_features = []\n",
    "accuracies = []\n",
    "\n",
    "for component in components:\n",
    "    pca = PCA(component)\n",
    "    pca.fit(train_X)\n",
    "\n",
    "    train_X_new = pca.transform(train_X)\n",
    "    valid_X_new = pca.transform(valid_X)\n",
    "    selected_features.append(train_X_new.shape[1])\n",
    "\n",
    "    svc_new = SVC(kernel='linear')\n",
    "    svc_new.fit(train_X_new, train_y)\n",
    "\n",
    "    pred_y = svc_new.predict(valid_X_new)\n",
    "    accuracy_score_valid = accuracy_score(valid_y, pred_y)\n",
    "    accuracies.append(accuracy_score_valid)\n",
    "\n",
    "\n",
    "results = pd.DataFrame({'components': components, 'selected features': selected_features, 'accuracy': accuracies})\n",
    "results"
   ]
  },
  {
   "cell_type": "code",
   "execution_count": 156,
   "metadata": {},
   "outputs": [
    {
     "data": {
      "text/html": [
       "<div>\n",
       "<style scoped>\n",
       "    .dataframe tbody tr th:only-of-type {\n",
       "        vertical-align: middle;\n",
       "    }\n",
       "\n",
       "    .dataframe tbody tr th {\n",
       "        vertical-align: top;\n",
       "    }\n",
       "\n",
       "    .dataframe thead th {\n",
       "        text-align: right;\n",
       "    }\n",
       "</style>\n",
       "<table border=\"1\" class=\"dataframe\">\n",
       "  <thead>\n",
       "    <tr style=\"text-align: right;\">\n",
       "      <th></th>\n",
       "      <th>components</th>\n",
       "      <th>selected features</th>\n",
       "      <th>accuracy</th>\n",
       "    </tr>\n",
       "  </thead>\n",
       "  <tbody>\n",
       "    <tr>\n",
       "      <th>0</th>\n",
       "      <td>0.975</td>\n",
       "      <td>341</td>\n",
       "      <td>0.808000</td>\n",
       "    </tr>\n",
       "    <tr>\n",
       "      <th>1</th>\n",
       "      <td>0.980</td>\n",
       "      <td>381</td>\n",
       "      <td>0.816000</td>\n",
       "    </tr>\n",
       "    <tr>\n",
       "      <th>2</th>\n",
       "      <td>0.985</td>\n",
       "      <td>431</td>\n",
       "      <td>0.820000</td>\n",
       "    </tr>\n",
       "    <tr>\n",
       "      <th>3</th>\n",
       "      <td>0.990</td>\n",
       "      <td>496</td>\n",
       "      <td>0.834667</td>\n",
       "    </tr>\n",
       "    <tr>\n",
       "      <th>4</th>\n",
       "      <td>0.995</td>\n",
       "      <td>589</td>\n",
       "      <td>0.822667</td>\n",
       "    </tr>\n",
       "  </tbody>\n",
       "</table>\n",
       "</div>"
      ],
      "text/plain": [
       "   components  selected features  accuracy\n",
       "0       0.975                341  0.808000\n",
       "1       0.980                381  0.816000\n",
       "2       0.985                431  0.820000\n",
       "3       0.990                496  0.834667\n",
       "4       0.995                589  0.822667"
      ]
     },
     "execution_count": 156,
     "metadata": {},
     "output_type": "execute_result"
    }
   ],
   "source": [
    "from sklearn.decomposition import PCA\n",
    "from sklearn.svm import SVC\n",
    "\n",
    "components = [0.975, 0.98, 0.985, 0.99, 0.995]\n",
    "selected_features = []\n",
    "accuracies = []\n",
    "\n",
    "for component in components:\n",
    "    pca = PCA(component)\n",
    "    pca.fit(train_X)\n",
    "\n",
    "    train_X_new = pca.transform(train_X)\n",
    "    valid_X_new = pca.transform(valid_X)\n",
    "    selected_features.append(train_X_new.shape[1])\n",
    "\n",
    "    svc_new = SVC(kernel='linear')\n",
    "    svc_new.fit(train_X_new, train_y)\n",
    "\n",
    "    pred_y = svc_new.predict(valid_X_new)\n",
    "    accuracy_score_valid = accuracy_score(valid_y, pred_y)\n",
    "    accuracies.append(accuracy_score_valid)\n",
    "\n",
    "\n",
    "results = pd.DataFrame({'components': components, 'selected features': selected_features, 'accuracy': accuracies})\n",
    "results"
   ]
  },
  {
   "cell_type": "markdown",
   "metadata": {},
   "source": [
    "Highest accuracies of each feature engineering methods\n",
    "\n",
    "(i) Correlation-Based Feature Selection (CFS) => accuracy = 0.8853 => new features = 500, \n",
    "(ii) Variance-based Feature Selection => accuracy = 0.8013 => new features = 471, \n",
    "(iii) PCA => accuracy = 0.8346 => new features = 496, \n",
    "\n",
    "therefore Correlation-Based Feature Selection (CFS) looks like the better method for feature engineering for label 2 for mean imputation for missing values"
   ]
  },
  {
   "cell_type": "markdown",
   "metadata": {},
   "source": [
    "Compared to the accuracy outputs of both \"deletion\" and \"mean imputation\", we can come to a conclusion that deletion is better for label 2 missing values.\n",
    "Therefore we can select the features using Correlation-Based Feature Selection (CFS) according to the outputs."
   ]
  },
  {
   "cell_type": "code",
   "execution_count": 20,
   "metadata": {},
   "outputs": [
    {
     "name": "stderr",
     "output_type": "stream",
     "text": [
      "C:\\Users\\satha\\AppData\\Local\\Temp\\ipykernel_16160\\2672742658.py:2: SettingWithCopyWarning: \n",
      "A value is trying to be set on a copy of a slice from a DataFrame\n",
      "\n",
      "See the caveats in the documentation: https://pandas.pydata.org/pandas-docs/stable/user_guide/indexing.html#returning-a-view-versus-a-copy\n",
      "  train_X.drop(['label_1', 'label_2', 'label_3', 'label_4'], axis=1, inplace=True)\n",
      "C:\\Users\\satha\\AppData\\Local\\Temp\\ipykernel_16160\\2672742658.py:6: SettingWithCopyWarning: \n",
      "A value is trying to be set on a copy of a slice from a DataFrame\n",
      "\n",
      "See the caveats in the documentation: https://pandas.pydata.org/pandas-docs/stable/user_guide/indexing.html#returning-a-view-versus-a-copy\n",
      "  valid_X.drop(['label_1', 'label_2', 'label_3', 'label_4'], axis=1, inplace=True)\n"
     ]
    }
   ],
   "source": [
    "train_X = train[train['label_2'].notna()]                                              # NaN values are dropped\n",
    "train_X.drop(['label_1', 'label_2', 'label_3', 'label_4'], axis=1, inplace=True)\n",
    "train_y = train[train['label_2'].notna()]['label_2']\n",
    "\n",
    "valid_X = valid[valid['label_2'].notna()]                                             # NaN values are dropped\n",
    "valid_X.drop(['label_1', 'label_2', 'label_3', 'label_4'], axis=1, inplace=True)\n",
    "valid_y = valid[valid['label_2'].notna()]['label_2']\n",
    "\n",
    "test_X = test.copy()\n",
    "test_X.drop(['ID'], axis=1, inplace=True)"
   ]
  },
  {
   "cell_type": "code",
   "execution_count": 5,
   "metadata": {},
   "outputs": [],
   "source": [
    "from sklearn.feature_selection import SelectKBest\n",
    "from sklearn.feature_selection import f_classif\n",
    "\n",
    "selected_features = 500\n",
    "\n",
    "feature_selector = SelectKBest(score_func=f_classif, k=selected_features)\n",
    "feature_selector.fit(train_X, train_y)\n",
    "\n",
    "train_X_new = feature_selector.transform(train_X)\n",
    "valid_X_new = feature_selector.transform(valid_X)\n",
    "test_X_new = feature_selector.transform(test_X)"
   ]
  },
  {
   "cell_type": "code",
   "execution_count": 21,
   "metadata": {},
   "outputs": [],
   "source": [
    "from sklearn.decomposition import PCA\n",
    "\n",
    "pca = PCA(0.99)\n",
    "pca.fit(train_X)\n",
    "\n",
    "train_X_new = pca.transform(train_X)\n",
    "valid_X_new = pca.transform(valid_X)\n",
    "test_X_new = pca.transform(test_X)"
   ]
  },
  {
   "cell_type": "code",
   "execution_count": 22,
   "metadata": {},
   "outputs": [
    {
     "data": {
      "text/plain": [
       "(28040, 495)"
      ]
     },
     "execution_count": 22,
     "metadata": {},
     "output_type": "execute_result"
    }
   ],
   "source": [
    "train_X_new.shape"
   ]
  },
  {
   "cell_type": "markdown",
   "metadata": {},
   "source": [
    "Hyper-parameter Optimization using Randomized Search"
   ]
  },
  {
   "cell_type": "code",
   "execution_count": 23,
   "metadata": {},
   "outputs": [
    {
     "data": {
      "text/html": [
       "<style>#sk-container-id-2 {color: black;}#sk-container-id-2 pre{padding: 0;}#sk-container-id-2 div.sk-toggleable {background-color: white;}#sk-container-id-2 label.sk-toggleable__label {cursor: pointer;display: block;width: 100%;margin-bottom: 0;padding: 0.3em;box-sizing: border-box;text-align: center;}#sk-container-id-2 label.sk-toggleable__label-arrow:before {content: \"▸\";float: left;margin-right: 0.25em;color: #696969;}#sk-container-id-2 label.sk-toggleable__label-arrow:hover:before {color: black;}#sk-container-id-2 div.sk-estimator:hover label.sk-toggleable__label-arrow:before {color: black;}#sk-container-id-2 div.sk-toggleable__content {max-height: 0;max-width: 0;overflow: hidden;text-align: left;background-color: #f0f8ff;}#sk-container-id-2 div.sk-toggleable__content pre {margin: 0.2em;color: black;border-radius: 0.25em;background-color: #f0f8ff;}#sk-container-id-2 input.sk-toggleable__control:checked~div.sk-toggleable__content {max-height: 200px;max-width: 100%;overflow: auto;}#sk-container-id-2 input.sk-toggleable__control:checked~label.sk-toggleable__label-arrow:before {content: \"▾\";}#sk-container-id-2 div.sk-estimator input.sk-toggleable__control:checked~label.sk-toggleable__label {background-color: #d4ebff;}#sk-container-id-2 div.sk-label input.sk-toggleable__control:checked~label.sk-toggleable__label {background-color: #d4ebff;}#sk-container-id-2 input.sk-hidden--visually {border: 0;clip: rect(1px 1px 1px 1px);clip: rect(1px, 1px, 1px, 1px);height: 1px;margin: -1px;overflow: hidden;padding: 0;position: absolute;width: 1px;}#sk-container-id-2 div.sk-estimator {font-family: monospace;background-color: #f0f8ff;border: 1px dotted black;border-radius: 0.25em;box-sizing: border-box;margin-bottom: 0.5em;}#sk-container-id-2 div.sk-estimator:hover {background-color: #d4ebff;}#sk-container-id-2 div.sk-parallel-item::after {content: \"\";width: 100%;border-bottom: 1px solid gray;flex-grow: 1;}#sk-container-id-2 div.sk-label:hover label.sk-toggleable__label {background-color: #d4ebff;}#sk-container-id-2 div.sk-serial::before {content: \"\";position: absolute;border-left: 1px solid gray;box-sizing: border-box;top: 0;bottom: 0;left: 50%;z-index: 0;}#sk-container-id-2 div.sk-serial {display: flex;flex-direction: column;align-items: center;background-color: white;padding-right: 0.2em;padding-left: 0.2em;position: relative;}#sk-container-id-2 div.sk-item {position: relative;z-index: 1;}#sk-container-id-2 div.sk-parallel {display: flex;align-items: stretch;justify-content: center;background-color: white;position: relative;}#sk-container-id-2 div.sk-item::before, #sk-container-id-2 div.sk-parallel-item::before {content: \"\";position: absolute;border-left: 1px solid gray;box-sizing: border-box;top: 0;bottom: 0;left: 50%;z-index: -1;}#sk-container-id-2 div.sk-parallel-item {display: flex;flex-direction: column;z-index: 1;position: relative;background-color: white;}#sk-container-id-2 div.sk-parallel-item:first-child::after {align-self: flex-end;width: 50%;}#sk-container-id-2 div.sk-parallel-item:last-child::after {align-self: flex-start;width: 50%;}#sk-container-id-2 div.sk-parallel-item:only-child::after {width: 0;}#sk-container-id-2 div.sk-dashed-wrapped {border: 1px dashed gray;margin: 0 0.4em 0.5em 0.4em;box-sizing: border-box;padding-bottom: 0.4em;background-color: white;}#sk-container-id-2 div.sk-label label {font-family: monospace;font-weight: bold;display: inline-block;line-height: 1.2em;}#sk-container-id-2 div.sk-label-container {text-align: center;}#sk-container-id-2 div.sk-container {/* jupyter's `normalize.less` sets `[hidden] { display: none; }` but bootstrap.min.css set `[hidden] { display: none !important; }` so we also need the `!important` here to be able to override the default hidden behavior on the sphinx rendered scikit-learn.org. See: https://github.com/scikit-learn/scikit-learn/issues/21755 */display: inline-block !important;position: relative;}#sk-container-id-2 div.sk-text-repr-fallback {display: none;}</style><div id=\"sk-container-id-2\" class=\"sk-top-container\"><div class=\"sk-text-repr-fallback\"><pre>RandomizedSearchCV(cv=2, estimator=SVC(), n_iter=5,\n",
       "                   param_distributions={&#x27;C&#x27;: [0.1, 1, 10],\n",
       "                                        &#x27;kernel&#x27;: [&#x27;poly&#x27;, &#x27;linear&#x27;]})</pre><b>In a Jupyter environment, please rerun this cell to show the HTML representation or trust the notebook. <br />On GitHub, the HTML representation is unable to render, please try loading this page with nbviewer.org.</b></div><div class=\"sk-container\" hidden><div class=\"sk-item sk-dashed-wrapped\"><div class=\"sk-label-container\"><div class=\"sk-label sk-toggleable\"><input class=\"sk-toggleable__control sk-hidden--visually\" id=\"sk-estimator-id-4\" type=\"checkbox\" ><label for=\"sk-estimator-id-4\" class=\"sk-toggleable__label sk-toggleable__label-arrow\">RandomizedSearchCV</label><div class=\"sk-toggleable__content\"><pre>RandomizedSearchCV(cv=2, estimator=SVC(), n_iter=5,\n",
       "                   param_distributions={&#x27;C&#x27;: [0.1, 1, 10],\n",
       "                                        &#x27;kernel&#x27;: [&#x27;poly&#x27;, &#x27;linear&#x27;]})</pre></div></div></div><div class=\"sk-parallel\"><div class=\"sk-parallel-item\"><div class=\"sk-item\"><div class=\"sk-label-container\"><div class=\"sk-label sk-toggleable\"><input class=\"sk-toggleable__control sk-hidden--visually\" id=\"sk-estimator-id-5\" type=\"checkbox\" ><label for=\"sk-estimator-id-5\" class=\"sk-toggleable__label sk-toggleable__label-arrow\">estimator: SVC</label><div class=\"sk-toggleable__content\"><pre>SVC()</pre></div></div></div><div class=\"sk-serial\"><div class=\"sk-item\"><div class=\"sk-estimator sk-toggleable\"><input class=\"sk-toggleable__control sk-hidden--visually\" id=\"sk-estimator-id-6\" type=\"checkbox\" ><label for=\"sk-estimator-id-6\" class=\"sk-toggleable__label sk-toggleable__label-arrow\">SVC</label><div class=\"sk-toggleable__content\"><pre>SVC()</pre></div></div></div></div></div></div></div></div></div></div>"
      ],
      "text/plain": [
       "RandomizedSearchCV(cv=2, estimator=SVC(), n_iter=5,\n",
       "                   param_distributions={'C': [0.1, 1, 10],\n",
       "                                        'kernel': ['poly', 'linear']})"
      ]
     },
     "execution_count": 23,
     "metadata": {},
     "output_type": "execute_result"
    }
   ],
   "source": [
    "from sklearn.model_selection import RandomizedSearchCV\n",
    "from sklearn.svm import SVC\n",
    "\n",
    "svm = SVC()\n",
    "param_distr = {'C':[0.1,1,10], 'kernel':['poly', 'linear']}\n",
    "\n",
    "randomized_search = RandomizedSearchCV(estimator=svm, param_distributions=param_distr, n_iter=5, cv=2)\n",
    "randomized_search.fit(train_X_new, train_y)"
   ]
  },
  {
   "cell_type": "code",
   "execution_count": 24,
   "metadata": {},
   "outputs": [
    {
     "data": {
      "text/plain": [
       "{'kernel': 'poly', 'C': 1}"
      ]
     },
     "execution_count": 24,
     "metadata": {},
     "output_type": "execute_result"
    }
   ],
   "source": [
    "randomized_search.best_params_"
   ]
  },
  {
   "cell_type": "code",
   "execution_count": 25,
   "metadata": {},
   "outputs": [],
   "source": [
    "best_svm_model = randomized_search.best_estimator_"
   ]
  },
  {
   "cell_type": "markdown",
   "metadata": {},
   "source": [
    "Cross Validation"
   ]
  },
  {
   "cell_type": "code",
   "execution_count": 29,
   "metadata": {},
   "outputs": [
    {
     "name": "stdout",
     "output_type": "stream",
     "text": [
      "Cross-Validation Scores: [0.88480742 0.89176177 0.88516405 0.8792796  0.88908702]\n",
      "Mean Accuracy = 0.8860199714693294\n",
      "Standard Deviation = 0.0042428881811599145\n"
     ]
    }
   ],
   "source": [
    "from sklearn.model_selection import cross_val_score, KFold\n",
    "\n",
    "# number of splits for k-fold cross-validation\n",
    "num_splits = 5\n",
    "\n",
    "kf = KFold(n_splits=num_splits, shuffle=True, random_state=42)\n",
    "cross_val_scores = cross_val_score(best_svm_model, train_X_new, train_y, cv=kf, scoring='accuracy')\n",
    "\n",
    "print(\"Cross-Validation Scores:\", cross_val_scores)\n",
    "print(\"Mean Accuracy =\",  np.mean(cross_val_scores))\n",
    "print(\"Standard Deviation =\",  np.std(cross_val_scores))"
   ]
  },
  {
   "cell_type": "markdown",
   "metadata": {},
   "source": [
    "Predicting label 2 values for test data set"
   ]
  },
  {
   "cell_type": "code",
   "execution_count": 26,
   "metadata": {},
   "outputs": [
    {
     "data": {
      "text/plain": [
       "(744,)"
      ]
     },
     "execution_count": 26,
     "metadata": {},
     "output_type": "execute_result"
    }
   ],
   "source": [
    "pred_test_y = best_svm_model.predict(test_X_new)\n",
    "pred_test_y.shape"
   ]
  },
  {
   "cell_type": "code",
   "execution_count": 27,
   "metadata": {},
   "outputs": [
    {
     "data": {
      "text/plain": [
       "(744, 495)"
      ]
     },
     "execution_count": 27,
     "metadata": {},
     "output_type": "execute_result"
    }
   ],
   "source": [
    "test_X_new.shape"
   ]
  },
  {
   "cell_type": "code",
   "execution_count": 28,
   "metadata": {},
   "outputs": [],
   "source": [
    "rows, columns = test_X_new.shape\n",
    "\n",
    "new_columns = {\n",
    "    'label_2' : pred_test_y\n",
    "}\n",
    "\n",
    "data_frame = pd.DataFrame(new_columns)\n",
    "\n",
    "csv_file_path = 'test_label_2_new.csv'\n",
    "data_frame.to_csv(csv_file_path, index=False)"
   ]
  }
 ],
 "metadata": {
  "kernelspec": {
   "display_name": "Python 3.10.7 64-bit",
   "language": "python",
   "name": "python3"
  },
  "language_info": {
   "codemirror_mode": {
    "name": "ipython",
    "version": 3
   },
   "file_extension": ".py",
   "mimetype": "text/x-python",
   "name": "python",
   "nbconvert_exporter": "python",
   "pygments_lexer": "ipython3",
   "version": "3.10.7"
  },
  "orig_nbformat": 4,
  "vscode": {
   "interpreter": {
    "hash": "2a43118badec7b85eb85918129f51f942876167af28014737563cebcbd988f85"
   }
  }
 },
 "nbformat": 4,
 "nbformat_minor": 2
}
