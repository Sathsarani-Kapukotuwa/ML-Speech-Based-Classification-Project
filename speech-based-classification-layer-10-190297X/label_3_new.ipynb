{
 "cells": [
  {
   "cell_type": "code",
   "execution_count": 2,
   "metadata": {},
   "outputs": [],
   "source": [
    "import pandas as pd\n",
    "import numpy as np"
   ]
  },
  {
   "cell_type": "code",
   "execution_count": 3,
   "metadata": {},
   "outputs": [],
   "source": [
    "train = pd.read_csv('layer_10_train.csv')\n",
    "valid = pd.read_csv('layer_10_valid.csv')\n",
    "test = pd.read_csv('layer_10_test.csv')"
   ]
  },
  {
   "cell_type": "code",
   "execution_count": 4,
   "metadata": {},
   "outputs": [],
   "source": [
    "train_X = train.copy()\n",
    "train_X.drop(['label_1', 'label_2', 'label_3', 'label_4'], axis=1, inplace=True)\n",
    "train_y = train['label_3']\n",
    "\n",
    "valid_X = valid.copy()\n",
    "valid_X.drop(['label_1', 'label_2', 'label_3', 'label_4'], axis=1, inplace=True)\n",
    "valid_y = valid['label_3']\n",
    "\n",
    "test_X = test.copy()\n",
    "test_X.drop(['label_1', 'label_2', 'label_3', 'label_4'], axis=1, inplace=True)\n",
    "test_y = test['label_3']"
   ]
  },
  {
   "cell_type": "code",
   "execution_count": 4,
   "metadata": {},
   "outputs": [
    {
     "data": {
      "text/plain": [
       "(28520, 768)"
      ]
     },
     "execution_count": 4,
     "metadata": {},
     "output_type": "execute_result"
    }
   ],
   "source": [
    "train_X.shape"
   ]
  },
  {
   "cell_type": "code",
   "execution_count": 5,
   "metadata": {},
   "outputs": [],
   "source": [
    "from sklearn.preprocessing import StandardScaler\n",
    "\n",
    "scaler = StandardScaler()\n",
    "\n",
    "train_X = scaler.fit_transform(train_X)\n",
    "valid_X = scaler.fit_transform(valid_X)\n",
    "test_X = scaler.fit_transform(test_X)"
   ]
  },
  {
   "cell_type": "markdown",
   "metadata": {},
   "source": [
    "Feature Engineering"
   ]
  },
  {
   "cell_type": "code",
   "execution_count": 6,
   "metadata": {},
   "outputs": [],
   "source": [
    "from sklearn.decomposition import PCA\n",
    "\n",
    "pca = PCA(\n",
    "    n_components = 0.98,\n",
    "    svd_solver='full',\n",
    "    whiten=True\n",
    "    )\n",
    "pca.fit(train_X)\n",
    "\n",
    "train_X_new = pca.transform(train_X)\n",
    "valid_X_new = pca.transform(valid_X)\n",
    "test_X_new = pca.transform(test_X)"
   ]
  },
  {
   "cell_type": "code",
   "execution_count": 7,
   "metadata": {},
   "outputs": [
    {
     "data": {
      "text/plain": [
       "(28520, 426)"
      ]
     },
     "execution_count": 7,
     "metadata": {},
     "output_type": "execute_result"
    }
   ],
   "source": [
    "train_X_new.shape"
   ]
  },
  {
   "cell_type": "markdown",
   "metadata": {},
   "source": [
    "Ensemble Learning with Bagging"
   ]
  },
  {
   "cell_type": "code",
   "execution_count": 7,
   "metadata": {},
   "outputs": [
    {
     "data": {
      "text/plain": [
       "0.992"
      ]
     },
     "execution_count": 7,
     "metadata": {},
     "output_type": "execute_result"
    }
   ],
   "source": [
    "from sklearn.svm import SVC\n",
    "from sklearn.ensemble import BaggingClassifier\n",
    "from sklearn.metrics import accuracy_score\n",
    "\n",
    "base_svm = SVC(\n",
    "    kernel='linear',\n",
    "    C=50,\n",
    "    gamma='auto',\n",
    ")\n",
    "\n",
    "bagged_svm = BaggingClassifier(\n",
    "    base_svm, \n",
    "    n_estimators=10, \n",
    "    random_state=10\n",
    ")\n",
    "\n",
    "bagged_svm.fit(train_X_new, train_y)\n",
    "\n",
    "pred_y = bagged_svm.predict(valid_X_new)\n",
    "\n",
    "accuracy_score_valid = accuracy_score(valid_y, pred_y)\n",
    "accuracy_score_valid"
   ]
  },
  {
   "cell_type": "markdown",
   "metadata": {},
   "source": [
    "Cross Validation"
   ]
  },
  {
   "cell_type": "code",
   "execution_count": null,
   "metadata": {},
   "outputs": [],
   "source": [
    "from sklearn.model_selection import cross_val_score, KFold\n",
    "\n",
    "# number of splits for k-fold cross-validation\n",
    "num_splits = 5\n",
    "\n",
    "kf = KFold(\n",
    "    n_splits=num_splits, \n",
    "    shuffle=True, \n",
    "    random_state=42\n",
    ")\n",
    "\n",
    "cross_val_scores = cross_val_score(bagged_svm, train_X_new, train_y, cv=kf, scoring='accuracy')\n",
    "\n",
    "print(\"Cross-Validation Scores :\", cross_val_scores)\n",
    "print(\"Mean Accuracy =\",  np.mean(cross_val_scores))\n",
    "print(\"Standard Deviation =\",  np.std(cross_val_scores))"
   ]
  },
  {
   "cell_type": "code",
   "execution_count": 8,
   "metadata": {},
   "outputs": [
    {
     "data": {
      "text/plain": [
       "0.9933333333333333"
      ]
     },
     "execution_count": 8,
     "metadata": {},
     "output_type": "execute_result"
    }
   ],
   "source": [
    "pred_test_y = bagged_svm.predict(test_X_new)\n",
    "\n",
    "accuracy_score_valid = accuracy_score(test_y, pred_test_y)\n",
    "accuracy_score_valid"
   ]
  },
  {
   "cell_type": "code",
   "execution_count": 9,
   "metadata": {},
   "outputs": [],
   "source": [
    "rows, columns = test_X_new.shape\n",
    "\n",
    "new_columns = {\n",
    "    'label_1' : pred_test_y\n",
    "}\n",
    "\n",
    "data_frame = pd.DataFrame(new_columns)\n",
    "\n",
    "csv_file_path = 'test_label_3_final.csv'\n",
    "data_frame.to_csv(csv_file_path, index=False)"
   ]
  }
 ],
 "metadata": {
  "kernelspec": {
   "display_name": "Python 3",
   "language": "python",
   "name": "python3"
  },
  "language_info": {
   "codemirror_mode": {
    "name": "ipython",
    "version": 3
   },
   "file_extension": ".py",
   "mimetype": "text/x-python",
   "name": "python",
   "nbconvert_exporter": "python",
   "pygments_lexer": "ipython3",
   "version": "3.10.7"
  }
 },
 "nbformat": 4,
 "nbformat_minor": 2
}
