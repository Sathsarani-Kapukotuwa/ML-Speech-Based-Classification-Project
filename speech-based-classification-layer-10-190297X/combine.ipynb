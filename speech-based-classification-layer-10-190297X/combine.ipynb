{
 "cells": [
  {
   "cell_type": "code",
   "execution_count": 1,
   "metadata": {},
   "outputs": [],
   "source": [
    "import pandas as pd\n",
    "import numpy as np"
   ]
  },
  {
   "cell_type": "code",
   "execution_count": 3,
   "metadata": {},
   "outputs": [],
   "source": [
    "label_1 = pd.read_csv('test_label_1_final.csv')\n",
    "label_2 = pd.read_csv('test_label_2_final.csv')\n",
    "label_3 = pd.read_csv('test_label_3_final.csv')\n",
    "label_4 = pd.read_csv('test_label_4_final.csv')\n",
    "\n",
    "rows = label_1.shape[0]\n",
    "columns = 5\n",
    "\n",
    "table = {\n",
    "    'ID': (str(i) for i in range(1, rows+1)),\n",
    "    'label_1': label_1['label_1'],\n",
    "    'label_2': label_2['label_2'],\n",
    "    'label_3': label_3['label_3'],\n",
    "    'label_4': label_4['label_4']\n",
    "}\n",
    "\n",
    "labels = pd.DataFrame(table)\n",
    "csv_file_path = 'layer_10_FINAL.csv'\n",
    "labels.to_csv(csv_file_path, index=False)"
   ]
  }
 ],
 "metadata": {
  "kernelspec": {
   "display_name": "Python 3",
   "language": "python",
   "name": "python3"
  },
  "language_info": {
   "codemirror_mode": {
    "name": "ipython",
    "version": 3
   },
   "file_extension": ".py",
   "mimetype": "text/x-python",
   "name": "python",
   "nbconvert_exporter": "python",
   "pygments_lexer": "ipython3",
   "version": "3.10.7"
  }
 },
 "nbformat": 4,
 "nbformat_minor": 2
}
